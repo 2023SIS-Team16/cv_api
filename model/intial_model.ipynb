{
 "cells": [
  {
   "cell_type": "markdown",
   "metadata": {},
   "source": [
    "# ASL Fingerspelling Recognizer and Predictor\n",
    "### Imports"
   ]
  },
  {
   "cell_type": "code",
   "execution_count": 2,
   "metadata": {},
   "outputs": [],
   "source": [
    "import os\n",
    "import shutil\n",
    "import numpy as np\n",
    "import pandas as pd\n",
    "import pyarrow.parquet as pq\n",
    "import tensorflow as tf\n",
    "import json\n",
    "import mediapipe\n",
    "import matplotlib\n",
    "import matplotlib.pyplot as plt\n",
    "import random\n",
    "\n",
    "from skimage.transform import resize\n",
    "from mediapipe.framework.formats import landmark_pb2\n",
    "from tensorflow import keras\n",
    "from tensorflow.keras import layers\n",
    "\n",
    "%load_ext autoreload\n",
    "%autoreload 2"
   ]
  },
  {
   "cell_type": "code",
   "execution_count": 3,
   "metadata": {},
   "outputs": [
    {
     "name": "stdout",
     "output_type": "stream",
     "text": [
      "Dataset Shape: (67208, 5)\n"
     ]
    },
    {
     "data": {
      "text/html": [
       "<div>\n",
       "<style scoped>\n",
       "    .dataframe tbody tr th:only-of-type {\n",
       "        vertical-align: middle;\n",
       "    }\n",
       "\n",
       "    .dataframe tbody tr th {\n",
       "        vertical-align: top;\n",
       "    }\n",
       "\n",
       "    .dataframe thead th {\n",
       "        text-align: right;\n",
       "    }\n",
       "</style>\n",
       "<table border=\"1\" class=\"dataframe\">\n",
       "  <thead>\n",
       "    <tr style=\"text-align: right;\">\n",
       "      <th></th>\n",
       "      <th>path</th>\n",
       "      <th>file_id</th>\n",
       "      <th>sequence_id</th>\n",
       "      <th>participant_id</th>\n",
       "      <th>phrase</th>\n",
       "    </tr>\n",
       "  </thead>\n",
       "  <tbody>\n",
       "    <tr>\n",
       "      <th>0</th>\n",
       "      <td>train_landmarks/5414471.parquet</td>\n",
       "      <td>5414471</td>\n",
       "      <td>1816796431</td>\n",
       "      <td>217</td>\n",
       "      <td>3 creekhouse</td>\n",
       "    </tr>\n",
       "    <tr>\n",
       "      <th>1</th>\n",
       "      <td>train_landmarks/5414471.parquet</td>\n",
       "      <td>5414471</td>\n",
       "      <td>1816825349</td>\n",
       "      <td>107</td>\n",
       "      <td>scales/kuhaylah</td>\n",
       "    </tr>\n",
       "    <tr>\n",
       "      <th>2</th>\n",
       "      <td>train_landmarks/5414471.parquet</td>\n",
       "      <td>5414471</td>\n",
       "      <td>1816909464</td>\n",
       "      <td>1</td>\n",
       "      <td>1383 william lanier</td>\n",
       "    </tr>\n",
       "    <tr>\n",
       "      <th>3</th>\n",
       "      <td>train_landmarks/5414471.parquet</td>\n",
       "      <td>5414471</td>\n",
       "      <td>1816967051</td>\n",
       "      <td>63</td>\n",
       "      <td>988 franklin lane</td>\n",
       "    </tr>\n",
       "    <tr>\n",
       "      <th>4</th>\n",
       "      <td>train_landmarks/5414471.parquet</td>\n",
       "      <td>5414471</td>\n",
       "      <td>1817123330</td>\n",
       "      <td>89</td>\n",
       "      <td>6920 northeast 661st road</td>\n",
       "    </tr>\n",
       "  </tbody>\n",
       "</table>\n",
       "</div>"
      ],
      "text/plain": [
       "                              path  file_id  sequence_id  participant_id  \\\n",
       "0  train_landmarks/5414471.parquet  5414471   1816796431             217   \n",
       "1  train_landmarks/5414471.parquet  5414471   1816825349             107   \n",
       "2  train_landmarks/5414471.parquet  5414471   1816909464               1   \n",
       "3  train_landmarks/5414471.parquet  5414471   1816967051              63   \n",
       "4  train_landmarks/5414471.parquet  5414471   1817123330              89   \n",
       "\n",
       "                      phrase  \n",
       "0               3 creekhouse  \n",
       "1            scales/kuhaylah  \n",
       "2        1383 william lanier  \n",
       "3          988 franklin lane  \n",
       "4  6920 northeast 661st road  "
      ]
     },
     "execution_count": 3,
     "metadata": {},
     "output_type": "execute_result"
    }
   ],
   "source": [
    "ds_path = os.environ.get('SIS_DATASET_INPUT_PATH')\n",
    "ds_out_path = os.environ.get('SIS_DATASET_PREPROC_PATH')\n",
    "dsdf = pd.read_csv(os.path.join(ds_path, 'train.csv')) # Modify path to match kaggle dataset path\n",
    "print(\"Dataset Shape: {}\".format(dsdf.shape))\n",
    "\n",
    "dsdf.head()\n"
   ]
  },
  {
   "cell_type": "markdown",
   "metadata": {},
   "source": [
    "## Process Dataset from Parquets to TFRecord"
   ]
  },
  {
   "cell_type": "code",
   "execution_count": 4,
   "metadata": {},
   "outputs": [],
   "source": [
    "# This is taken from the Google example notebook for processing data\n",
    "LPOSE = [13, 15, 17, 19, 21]\n",
    "RPOSE = [14, 16, 18, 20, 22]\n",
    "POSE = LPOSE + RPOSE\n",
    "\n",
    "X = [f'x_right_hand_{i}' for i in range(21)] + [f'x_left_hand_{i}' for i in range(21)] + [f'x_pose_{i}' for i in POSE]\n",
    "Y = [f'y_right_hand_{i}' for i in range(21)] + [f'y_left_hand_{i}' for i in range(21)] + [f'y_pose_{i}' for i in POSE]\n",
    "Z = [f'z_right_hand_{i}' for i in range(21)] + [f'z_left_hand_{i}' for i in range(21)] + [f'z_pose_{i}' for i in POSE]\n",
    "\n",
    "FEATURE_COLUMNS = X + Y + Z\n",
    "\n",
    "X_IDX = [i for i, col in enumerate(FEATURE_COLUMNS)  if \"x_\" in col]\n",
    "Y_IDX = [i for i, col in enumerate(FEATURE_COLUMNS)  if \"y_\" in col]\n",
    "Z_IDX = [i for i, col in enumerate(FEATURE_COLUMNS)  if \"z_\" in col]\n",
    "\n",
    "RHAND_IDX = [i for i, col in enumerate(FEATURE_COLUMNS)  if \"right\" in col]\n",
    "LHAND_IDX = [i for i, col in enumerate(FEATURE_COLUMNS)  if  \"left\" in col]\n",
    "RPOSE_IDX = [i for i, col in enumerate(FEATURE_COLUMNS)  if  \"pose\" in col and int(col[-2:]) in RPOSE]\n",
    "LPOSE_IDX = [i for i, col in enumerate(FEATURE_COLUMNS)  if  \"pose\" in col and int(col[-2:]) in LPOSE]"
   ]
  },
  {
   "cell_type": "code",
   "execution_count": 5,
   "metadata": {},
   "outputs": [
    {
     "data": {
      "application/vnd.jupyter.widget-view+json": {
       "model_id": "f7f7bfff5ea040b1bb2c8d6fe8286617",
       "version_major": 2,
       "version_minor": 0
      },
      "text/plain": [
       "  0%|          | 0/68 [00:00<?, ?it/s]"
      ]
     },
     "metadata": {},
     "output_type": "display_data"
    }
   ],
   "source": [
    "from tqdm.notebook import tqdm\n",
    "\n",
    "tfrec_path = os.path.join(ds_out_path, 'tfrecords')\n",
    "\n",
    "# Set length of frames to 128\n",
    "FRAME_LEN = 128\n",
    "\n",
    "# Create directory to store the new data\n",
    "if not os.path.isdir(\"preprocessed\"):\n",
    "    os.mkdir(\"preprocessed\")\n",
    "else:\n",
    "    shutil.rmtree(\"preprocessed\")\n",
    "    os.mkdir(\"preprocessed\")\n",
    "\n",
    "# Loop through each file_id\n",
    "for file_id in tqdm(dsdf.file_id.unique()):\n",
    "    # Parquet file name\n",
    "    \n",
    "    # pq_file = f\"/kaggle/input/asl-fingerspelling/train_landmarks/{file_id}.parquet\"\n",
    "    pq_file = os.path.join(ds_path, 'train_landmarks', f'{file_id}.parquet')\n",
    "\n",
    "    # Filter train.csv and fetch entries only for the relevant file_id\n",
    "    file_df = dsdf.loc[dsdf[\"file_id\"] == file_id]\n",
    "    # Fetch the parquet file\n",
    "    parquet_df = pq.read_table(pq_file,\n",
    "                              columns=['sequence_id'] + FEATURE_COLUMNS).to_pandas()\n",
    "    # File name for the updated data\n",
    "    tf_file = os.path.join(tfrec_path, f\"{file_id}.tfrecord\")\n",
    "    parquet_numpy = parquet_df.to_numpy()\n",
    "    # Initialize the pointer to write the output of \n",
    "    # each `for loop` below as a sequence into the file.\n",
    "    with tf.io.TFRecordWriter(tf_file) as file_writer:\n",
    "        # Loop through each sequence in file.\n",
    "        for seq_id, phrase in zip(file_df.sequence_id, file_df.phrase):\n",
    "            # Fetch sequence data\n",
    "            frames = parquet_numpy[parquet_df.index == seq_id]\n",
    "            \n",
    "            # Calculate the number of NaN values in each hand landmark\n",
    "            r_nonan = np.sum(np.sum(np.isnan(frames[:, RHAND_IDX]), axis = 1) == 0)\n",
    "            l_nonan = np.sum(np.sum(np.isnan(frames[:, LHAND_IDX]), axis = 1) == 0)\n",
    "            no_nan = max(r_nonan, l_nonan)\n",
    "            \n",
    "            if 2*len(phrase)<no_nan:\n",
    "                features = {FEATURE_COLUMNS[i]: tf.train.Feature(\n",
    "                    float_list=tf.train.FloatList(value=frames[:, i])) for i in range(len(FEATURE_COLUMNS))}\n",
    "                features[\"phrase\"] = tf.train.Feature(bytes_list=tf.train.BytesList(value=[bytes(phrase, 'utf-8')]))\n",
    "                record_bytes = tf.train.Example(features=tf.train.Features(feature=features)).SerializeToString()\n",
    "                file_writer.write(record_bytes)"
   ]
  },
  {
   "cell_type": "code",
   "execution_count": 6,
   "metadata": {},
   "outputs": [
    {
     "name": "stdout",
     "output_type": "stream",
     "text": [
      "List of 68 TFRecord files.\n",
      "['x_right_hand_0', 'x_right_hand_1', 'x_right_hand_2', 'x_right_hand_3', 'x_right_hand_4', 'x_right_hand_5', 'x_right_hand_6', 'x_right_hand_7', 'x_right_hand_8', 'x_right_hand_9', 'x_right_hand_10', 'x_right_hand_11', 'x_right_hand_12', 'x_right_hand_13', 'x_right_hand_14', 'x_right_hand_15', 'x_right_hand_16', 'x_right_hand_17', 'x_right_hand_18', 'x_right_hand_19', 'x_right_hand_20', 'x_left_hand_0', 'x_left_hand_1', 'x_left_hand_2', 'x_left_hand_3', 'x_left_hand_4', 'x_left_hand_5', 'x_left_hand_6', 'x_left_hand_7', 'x_left_hand_8', 'x_left_hand_9', 'x_left_hand_10', 'x_left_hand_11', 'x_left_hand_12', 'x_left_hand_13', 'x_left_hand_14', 'x_left_hand_15', 'x_left_hand_16', 'x_left_hand_17', 'x_left_hand_18', 'x_left_hand_19', 'x_left_hand_20', 'x_pose_13', 'x_pose_15', 'x_pose_17', 'x_pose_19', 'x_pose_21', 'x_pose_14', 'x_pose_16', 'x_pose_18', 'x_pose_20', 'x_pose_22', 'y_right_hand_0', 'y_right_hand_1', 'y_right_hand_2', 'y_right_hand_3', 'y_right_hand_4', 'y_right_hand_5', 'y_right_hand_6', 'y_right_hand_7', 'y_right_hand_8', 'y_right_hand_9', 'y_right_hand_10', 'y_right_hand_11', 'y_right_hand_12', 'y_right_hand_13', 'y_right_hand_14', 'y_right_hand_15', 'y_right_hand_16', 'y_right_hand_17', 'y_right_hand_18', 'y_right_hand_19', 'y_right_hand_20', 'y_left_hand_0', 'y_left_hand_1', 'y_left_hand_2', 'y_left_hand_3', 'y_left_hand_4', 'y_left_hand_5', 'y_left_hand_6', 'y_left_hand_7', 'y_left_hand_8', 'y_left_hand_9', 'y_left_hand_10', 'y_left_hand_11', 'y_left_hand_12', 'y_left_hand_13', 'y_left_hand_14', 'y_left_hand_15', 'y_left_hand_16', 'y_left_hand_17', 'y_left_hand_18', 'y_left_hand_19', 'y_left_hand_20', 'y_pose_13', 'y_pose_15', 'y_pose_17', 'y_pose_19', 'y_pose_21', 'y_pose_14', 'y_pose_16', 'y_pose_18', 'y_pose_20', 'y_pose_22', 'z_right_hand_0', 'z_right_hand_1', 'z_right_hand_2', 'z_right_hand_3', 'z_right_hand_4', 'z_right_hand_5', 'z_right_hand_6', 'z_right_hand_7', 'z_right_hand_8', 'z_right_hand_9', 'z_right_hand_10', 'z_right_hand_11', 'z_right_hand_12', 'z_right_hand_13', 'z_right_hand_14', 'z_right_hand_15', 'z_right_hand_16', 'z_right_hand_17', 'z_right_hand_18', 'z_right_hand_19', 'z_right_hand_20', 'z_left_hand_0', 'z_left_hand_1', 'z_left_hand_2', 'z_left_hand_3', 'z_left_hand_4', 'z_left_hand_5', 'z_left_hand_6', 'z_left_hand_7', 'z_left_hand_8', 'z_left_hand_9', 'z_left_hand_10', 'z_left_hand_11', 'z_left_hand_12', 'z_left_hand_13', 'z_left_hand_14', 'z_left_hand_15', 'z_left_hand_16', 'z_left_hand_17', 'z_left_hand_18', 'z_left_hand_19', 'z_left_hand_20', 'z_pose_13', 'z_pose_15', 'z_pose_17', 'z_pose_19', 'z_pose_21', 'z_pose_14', 'z_pose_16', 'z_pose_18', 'z_pose_20', 'z_pose_22']\n"
     ]
    }
   ],
   "source": [
    "tf_records = dsdf.file_id.map(lambda x: os.path.join(tfrec_path, f'{x}.tfrecord')).unique()\n",
    "print(f\"List of {len(tf_records)} TFRecord files.\")\n",
    "\n",
    "print(FEATURE_COLUMNS)"
   ]
  },
  {
   "cell_type": "code",
   "execution_count": 7,
   "metadata": {},
   "outputs": [],
   "source": [
    "with open (os.path.join(ds_path, 'character_to_prediction_index.json'), \"r\") as f:\n",
    "    char_to_num = json.load(f)\n",
    "\n",
    "# Token definitions\n",
    "pad_token = 'P'\n",
    "start_token = '<'\n",
    "end_token = '>'\n",
    "pad_token_index = 59\n",
    "start_token_index = 60\n",
    "end_token_index = 61\n",
    "\n",
    "char_to_num[pad_token] = pad_token_index\n",
    "char_to_num[start_token] = start_token_index\n",
    "char_to_num[end_token] = end_token_index\n",
    "num_to_char = {j:i for i,j in char_to_num.items()}"
   ]
  },
  {
   "cell_type": "code",
   "execution_count": 8,
   "metadata": {},
   "outputs": [],
   "source": [
    "# This was taken from: https://www.kaggle.com/code/irohith/aslfr-transformer/notebook\n",
    "\n",
    "# Function to resize and add padding.\n",
    "def resize_pad(x):\n",
    "    if tf.shape(x)[0] < FRAME_LEN:\n",
    "        x = tf.pad(x, ([[0, FRAME_LEN-tf.shape(x)[0]], [0, 0], [0, 0]]))\n",
    "    else:\n",
    "        x = tf.image.resize(x, (FRAME_LEN, tf.shape(x)[1]))\n",
    "    return x\n",
    "\n",
    "# Detect the dominant hand from the number of NaN values.\n",
    "# Dominant hand will have less NaN values since it is in frame moving.\n",
    "def pre_process(x):\n",
    "    rhand = tf.gather(x, RHAND_IDX, axis=1)\n",
    "    lhand = tf.gather(x, LHAND_IDX, axis=1)\n",
    "    rpose = tf.gather(x, RPOSE_IDX, axis=1)\n",
    "    lpose = tf.gather(x, LPOSE_IDX, axis=1)\n",
    "    \n",
    "    rnan_idx = tf.reduce_any(tf.math.is_nan(rhand), axis=1)\n",
    "    lnan_idx = tf.reduce_any(tf.math.is_nan(lhand), axis=1)\n",
    "    \n",
    "    rnans = tf.math.count_nonzero(rnan_idx)\n",
    "    lnans = tf.math.count_nonzero(lnan_idx)\n",
    "    \n",
    "    # For dominant hand\n",
    "    if rnans > lnans:\n",
    "        hand = lhand\n",
    "        pose = lpose\n",
    "        \n",
    "        hand_x = hand[:, 0*(len(LHAND_IDX)//3) : 1*(len(LHAND_IDX)//3)]\n",
    "        hand_y = hand[:, 1*(len(LHAND_IDX)//3) : 2*(len(LHAND_IDX)//3)]\n",
    "        hand_z = hand[:, 2*(len(LHAND_IDX)//3) : 3*(len(LHAND_IDX)//3)]\n",
    "        hand = tf.concat([1-hand_x, hand_y, hand_z], axis=1)\n",
    "        \n",
    "        pose_x = pose[:, 0*(len(LPOSE_IDX)//3) : 1*(len(LPOSE_IDX)//3)]\n",
    "        pose_y = pose[:, 1*(len(LPOSE_IDX)//3) : 2*(len(LPOSE_IDX)//3)]\n",
    "        pose_z = pose[:, 2*(len(LPOSE_IDX)//3) : 3*(len(LPOSE_IDX)//3)]\n",
    "        pose = tf.concat([1-pose_x, pose_y, pose_z], axis=1)\n",
    "    else:\n",
    "        hand = rhand\n",
    "        pose = rpose\n",
    "    \n",
    "    hand_x = hand[:, 0*(len(LHAND_IDX)//3) : 1*(len(LHAND_IDX)//3)]\n",
    "    hand_y = hand[:, 1*(len(LHAND_IDX)//3) : 2*(len(LHAND_IDX)//3)]\n",
    "    hand_z = hand[:, 2*(len(LHAND_IDX)//3) : 3*(len(LHAND_IDX)//3)]\n",
    "    hand = tf.concat([hand_x[..., tf.newaxis], hand_y[..., tf.newaxis], hand_z[..., tf.newaxis]], axis=-1)\n",
    "    \n",
    "    mean = tf.math.reduce_mean(hand, axis=1)[:, tf.newaxis, :]\n",
    "    std = tf.math.reduce_std(hand, axis=1)[:, tf.newaxis, :]\n",
    "    hand = (hand - mean) / std\n",
    "\n",
    "    pose_x = pose[:, 0*(len(LPOSE_IDX)//3) : 1*(len(LPOSE_IDX)//3)]\n",
    "    pose_y = pose[:, 1*(len(LPOSE_IDX)//3) : 2*(len(LPOSE_IDX)//3)]\n",
    "    pose_z = pose[:, 2*(len(LPOSE_IDX)//3) : 3*(len(LPOSE_IDX)//3)]\n",
    "    pose = tf.concat([pose_x[..., tf.newaxis], pose_y[..., tf.newaxis], pose_z[..., tf.newaxis]], axis=-1)\n",
    "    \n",
    "    x = tf.concat([hand, pose], axis=1)\n",
    "    x = resize_pad(x)\n",
    "    \n",
    "    x = tf.where(tf.math.is_nan(x), tf.zeros_like(x), x)\n",
    "    x = tf.reshape(x, (FRAME_LEN, len(LHAND_IDX) + len(LPOSE_IDX)))\n",
    "    return x"
   ]
  },
  {
   "cell_type": "code",
   "execution_count": 9,
   "metadata": {},
   "outputs": [],
   "source": [
    "def decode_func(record_bytes):\n",
    "    schema = {col: tf.io.VarLenFeature(dtype=tf.float32) for col in FEATURE_COLUMNS}\n",
    "    schema[\"phrase\"] = tf.io.FixedLenFeature([], dtype=tf.string)\n",
    "    features = tf.io.parse_single_example(record_bytes, schema)\n",
    "    phrase = features[\"phrase\"]\n",
    "    landmarks = ([tf.sparse.to_dense(features[COL]) for COL in FEATURE_COLUMNS])\n",
    "    landmarks = tf.transpose(landmarks)\n",
    "    \n",
    "    return landmarks, phrase\n",
    "\n",
    "table = tf.lookup.StaticHashTable(\n",
    "    initializer=tf.lookup.KeyValueTensorInitializer(\n",
    "        keys=tf.constant(list(char_to_num.keys())),\n",
    "        values=tf.constant(list(char_to_num.values())),\n",
    "    ),\n",
    "    default_value=tf.constant(-1),\n",
    "    name=\"class_weight\"\n",
    ")\n",
    "\n",
    "def convert_func(landmarks, phrase):\n",
    "    phrase = start_token + phrase + end_token # Set up phrase\n",
    "    phrase = tf.strings.bytes_split(phrase)\n",
    "    phrase = table.lookup(phrase)\n",
    "\n",
    "    phrase = tf.pad(phrase, paddings=[[0, 64 - tf.shape(phrase)[0]]], mode='CONSTANT', constant_values=pad_token_index)\n",
    "    return pre_process(landmarks), phrase"
   ]
  },
  {
   "cell_type": "markdown",
   "metadata": {},
   "source": [
    "## Split and Train model"
   ]
  },
  {
   "cell_type": "code",
   "execution_count": 10,
   "metadata": {},
   "outputs": [],
   "source": [
    "# Train and Split\n",
    "batch_size = 128\n",
    "train_len = int(0.8 * len(tf_records))\n",
    "train_ds = tf.data.TFRecordDataset(tf_records[:train_len]).map(decode_func).map(convert_func).batch(batch_size).prefetch(buffer_size=tf.data.AUTOTUNE).cache()\n",
    "\n",
    "valid_ds = tf.data.TFRecordDataset(tf_records[train_len:]).map(decode_func).map(convert_func).batch(batch_size).prefetch(buffer_size=tf.data.AUTOTUNE).cache()"
   ]
  },
  {
   "cell_type": "code",
   "execution_count": 12,
   "metadata": {},
   "outputs": [
    {
     "name": "stderr",
     "output_type": "stream",
     "text": [
      "2023-10-03 09:38:37.660737: W tensorflow/core/kernels/data/cache_dataset_ops.cc:856] The calling iterator did not fully read the dataset being cached. In order to avoid unexpected truncation of the dataset, the partially cached contents of the dataset  will be discarded. This can happen if you have an input pipeline similar to `dataset.cache().take(k).repeat()`. You should use `dataset.take(k).cache().repeat()` instead.\n"
     ]
    },
    {
     "name": "stdout",
     "output_type": "stream",
     "text": [
      "Epoch 1/13\n",
      "316/316 [==============================] - 451s 1s/step - loss: 0.9656 - edit_dist: inf - val_loss: 0.8808 - val_edit_dist: 0.9697\n",
      "Epoch 2/13\n",
      "316/316 [==============================] - 193s 610ms/step - loss: 0.8477 - edit_dist: 0.9597 - val_loss: 0.8330 - val_edit_dist: 0.9414\n",
      "Epoch 3/13\n",
      "316/316 [==============================] - 176s 556ms/step - loss: 0.8083 - edit_dist: 0.9374 - val_loss: 0.7969 - val_edit_dist: 0.9290\n",
      "Epoch 4/13\n",
      "316/316 [==============================] - 173s 548ms/step - loss: 0.7716 - edit_dist: 0.9229 - val_loss: 0.7650 - val_edit_dist: 0.9190\n",
      "Epoch 5/13\n",
      "316/316 [==============================] - 170s 537ms/step - loss: 0.7421 - edit_dist: 0.9116 - val_loss: 0.7428 - val_edit_dist: 0.9102\n",
      "Epoch 6/13\n",
      "316/316 [==============================] - 166s 525ms/step - loss: 0.7187 - edit_dist: 0.9030 - val_loss: 0.7254 - val_edit_dist: 0.9031\n",
      "Epoch 7/13\n",
      "316/316 [==============================] - 166s 526ms/step - loss: 0.6984 - edit_dist: 0.8958 - val_loss: 0.7123 - val_edit_dist: 0.8977\n",
      "Epoch 8/13\n",
      "316/316 [==============================] - 167s 527ms/step - loss: 0.6813 - edit_dist: 0.8897 - val_loss: 0.7079 - val_edit_dist: 0.8967\n",
      "Epoch 9/13\n",
      "316/316 [==============================] - 166s 526ms/step - loss: 0.6669 - edit_dist: 0.8850 - val_loss: 0.6973 - val_edit_dist: 0.8935\n",
      "Epoch 10/13\n",
      "316/316 [==============================] - 165s 522ms/step - loss: 0.6532 - edit_dist: 0.8809 - val_loss: 0.6840 - val_edit_dist: 0.8908\n",
      "Epoch 11/13\n",
      "316/316 [==============================] - 165s 522ms/step - loss: 0.6378 - edit_dist: 0.8778 - val_loss: 0.6764 - val_edit_dist: 0.8896\n",
      "Epoch 12/13\n",
      "316/316 [==============================] - 165s 523ms/step - loss: 0.6225 - edit_dist: 0.8756 - val_loss: 0.6722 - val_edit_dist: 0.8887\n",
      "Epoch 13/13\n",
      "316/316 [==============================] - 165s 521ms/step - loss: 0.6110 - edit_dist: 0.8733 - val_loss: 0.6604 - val_edit_dist: 0.8874\n"
     ]
    }
   ],
   "source": [
    "from layers.transformer import Transformer\n",
    "\n",
    "batch = next(iter(valid_ds))\n",
    "\n",
    "idx_to_char = list(char_to_num.keys())\n",
    "\n",
    "model = Transformer(\n",
    "    hid = 200,\n",
    "    heads = 4,\n",
    "    numFeedForward=400,\n",
    "    source_maxlen = FRAME_LEN,\n",
    "    target_maxlen = 64,\n",
    "    num_enc_layers=2,\n",
    "    num_dec_layers=1,\n",
    "    num_class=62,\n",
    ")\n",
    "\n",
    "loss_fun = tf.keras.losses.CategoricalCrossentropy(from_logits=True, label_smoothing=0.1)\n",
    "\n",
    "optmizer = tf.keras.optimizers.Adam(learning_rate=1e-4)\n",
    "model.compile(optimizer=optmizer, loss=loss_fun)\n",
    "\n",
    "history = model.fit(train_ds, validation_data=valid_ds, epochs=13) # TODO add prediction display"
   ]
  },
  {
   "cell_type": "code",
   "execution_count": 13,
   "metadata": {},
   "outputs": [
    {
     "data": {
      "text/plain": [
       "<matplotlib.legend.Legend at 0x2d42b4850>"
      ]
     },
     "execution_count": 13,
     "metadata": {},
     "output_type": "execute_result"
    },
    {
     "data": {
      "image/png": "[encoded data removed]",
      "text/plain": [
       "<Figure size 640x480 with 1 Axes>"
      ]
     },
     "metadata": {},
     "output_type": "display_data"
    }
   ],
   "source": [
    "plt.plot(history.history['loss'])\n",
    "plt.plot(history.history['val_loss'])\n",
    "plt.legend(['loss', 'val_loss'])"
   ]
  },
  {
   "cell_type": "markdown",
   "metadata": {},
   "source": [
    "# TF Lite Model Export"
   ]
  },
  {
   "cell_type": "code",
   "execution_count": 26,
   "metadata": {},
   "outputs": [
    {
     "ename": "TypeError",
     "evalue": "TFLiteModel.__init__() got an unexpected keyword argument 'preprocess_fn'",
     "output_type": "error",
     "traceback": [
      "\u001b[0;31m---------------------------------------------------------------------------\u001b[0m",
      "\u001b[0;31mTypeError\u001b[0m                                 Traceback (most recent call last)",
      "\u001b[1;32m/Users/jon/development/university/sis/cv_api/model/intial_model.ipynb Cell 16\u001b[0m line \u001b[0;36m3\n\u001b[1;32m      <a href='vscode-notebook-cell:/Users/jon/development/university/sis/cv_api/model/intial_model.ipynb#X21sZmlsZQ%3D%3D?line=0'>1</a>\u001b[0m \u001b[39mfrom\u001b[39;00m \u001b[39mconverters\u001b[39;00m\u001b[39m.\u001b[39;00m\u001b[39mtf_lite_model\u001b[39;00m \u001b[39mimport\u001b[39;00m TFLiteModel\n\u001b[0;32m----> <a href='vscode-notebook-cell:/Users/jon/development/university/sis/cv_api/model/intial_model.ipynb#X21sZmlsZQ%3D%3D?line=2'>3</a>\u001b[0m tf_model_obj \u001b[39m=\u001b[39m TFLiteModel(model, preprocess_fn\u001b[39m=\u001b[39;49mpre_process)\n\u001b[1;32m      <a href='vscode-notebook-cell:/Users/jon/development/university/sis/cv_api/model/intial_model.ipynb#X21sZmlsZQ%3D%3D?line=3'>4</a>\u001b[0m model\u001b[39m.\u001b[39msave_weights(\u001b[39m\"\u001b[39m\u001b[39m/Volumes/Public/Datasets/asl_model_weights.h5\u001b[39m\u001b[39m\"\u001b[39m)\n\u001b[1;32m      <a href='vscode-notebook-cell:/Users/jon/development/university/sis/cv_api/model/intial_model.ipynb#X21sZmlsZQ%3D%3D?line=4'>5</a>\u001b[0m converter \u001b[39m=\u001b[39m tf\u001b[39m.\u001b[39mlite\u001b[39m.\u001b[39mTFLiteConverter\u001b[39m.\u001b[39mfrom_keras_model(tf_model_obj)\n",
      "\u001b[0;31mTypeError\u001b[0m: TFLiteModel.__init__() got an unexpected keyword argument 'preprocess_fn'"
     ]
    }
   ],
   "source": [
    "from converters.tf_lite_model import TFLiteModel\n",
    "\n",
    "tf_model_obj = TFLiteModel(model, preprocess_fn=pre_process)\n",
    "model.save_weights(\"/Volumes/Public/Datasets/asl_model_weights.h5\")\n",
    "converter = tf.lite.TFLiteConverter.from_keras_model(tf_model_obj)\n",
    "converter.target_spec.supported_ops = [tf.lite.OpsSet.TFLITE_BUILTINS]\n",
    "# converter.experimental_new_convereter = True\n",
    "lite_model = converter.convert()\n",
    "with open(\"/Volumes/Public/Datasets/asl_model.tflife\", 'wb') as f:\n",
    "    f.write(lite_model)\n",
    "\n",
    "infargs = {\"selected_columns\" : FEATURE_COLUMNS}\n",
    "with open(\"/Volumes/Public/Datasets/asl_model.json\", 'w') as json_f:\n",
    "    json.dump(infargs, json_f)"
   ]
  }
 ],
 "metadata": {
  "kernelspec": {
   "display_name": "sis_cv_api",
   "language": "python",
   "name": "python3"
  },
  "language_info": {
   "codemirror_mode": {
    "name": "ipython",
    "version": 3
   },
   "file_extension": ".py",
   "mimetype": "text/x-python",
   "name": "python",
   "nbconvert_exporter": "python",
   "pygments_lexer": "ipython3",
   "version": "3.11.5"
  },
  "orig_nbformat": 4
 },
 "nbformat": 4,
 "nbformat_minor": 2
}
