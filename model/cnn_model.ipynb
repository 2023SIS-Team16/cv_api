{
 "cells": [
  {
   "cell_type": "code",
   "execution_count": 63,
   "metadata": {},
   "outputs": [
    {
     "name": "stdout",
     "output_type": "stream",
     "text": [
      "The autoreload extension is already loaded. To reload it, use:\n",
      "  %reload_ext autoreload\n"
     ]
    }
   ],
   "source": [
    "import tensorflow as tf\n",
    "import numpy as np\n",
    "import pandas as pd\n",
    "import os\n",
    "\n",
    "%load_ext autoreload\n",
    "%autoreload 2"
   ]
  },
  {
   "cell_type": "code",
   "execution_count": 64,
   "metadata": {},
   "outputs": [
    {
     "name": "stdout",
     "output_type": "stream",
     "text": [
      "['train_0001_32b306bc-3b87-429b-b222-f3d097cde313.tfrecord']\n",
      "<TFRecordDatasetV2 element_spec=TensorSpec(shape=(), dtype=tf.string, name=None)>\n"
     ]
    }
   ],
   "source": [
    "# Load Data\n",
    "dataset_path = \"/Users/jon/development/university/sis/datasets/output\"\n",
    "\n",
    "tfrecs_paths = [each for each in os.listdir(dataset_path) if each.endswith(\".tfrecord\")]\n",
    "\n",
    "print(tfrecs_paths)\n",
    "\n",
    "x_dataset = []\n",
    "y_dataset = []\n",
    "\n",
    "raw_dataset = tf.data.TFRecordDataset([os.path.join(dataset_path, each) for each in tfrecs_paths])\n",
    "print(raw_dataset)\n",
    "\n",
    "feature_description = {\n",
    "    'target_label': tf.io.FixedLenSequenceFeature([], tf.int64, allow_missing=True),\n",
    "    'landmarks': tf.io.FixedLenSequenceFeature([], tf.float32, allow_missing=True),\n",
    "}\n",
    "\n",
    "def parse_record_fn(example):\n",
    "    return tf.io.parse_single_example(example, feature_description)\n",
    "\n",
    "parsed_dataset = raw_dataset.map(parse_record_fn)\n",
    "# print(parsed_dataset)\n",
    "\n",
    "for parsed_record in parsed_dataset.take(10):\n",
    "    x_dataset.append(parsed_record['landmarks'].numpy())\n",
    "    y_dataset.append(tf.one_hot(parsed_record['target_label'].numpy(), depth=26).numpy())\n",
    "    "
   ]
  },
  {
   "cell_type": "code",
   "execution_count": 65,
   "metadata": {},
   "outputs": [],
   "source": [
    "from sklearn.model_selection import train_test_split\n",
    "\n",
    "x_train, x_test, y_train, y_test = train_test_split(x_dataset, y_dataset, test_size=0.2, random_state=42)"
   ]
  }
 ],
 "metadata": {
  "kernelspec": {
   "display_name": "sis_cv_api",
   "language": "python",
   "name": "python3"
  },
  "language_info": {
   "codemirror_mode": {
    "name": "ipython",
    "version": 3
   },
   "file_extension": ".py",
   "mimetype": "text/x-python",
   "name": "python",
   "nbconvert_exporter": "python",
   "pygments_lexer": "ipython3",
   "version": "3.11.5"
  }
 },
 "nbformat": 4,
 "nbformat_minor": 2
}
