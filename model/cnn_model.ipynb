{
 "cells": [
  {
   "cell_type": "code",
   "execution_count": 52,
   "metadata": {},
   "outputs": [
    {
     "name": "stdout",
     "output_type": "stream",
     "text": [
      "The autoreload extension is already loaded. To reload it, use:\n",
      "  %reload_ext autoreload\n"
     ]
    }
   ],
   "source": [
    "import tensorflow as tf\n",
    "import numpy as np\n",
    "import pandas as pd\n",
    "import os\n",
    "\n",
    "%load_ext autoreload\n",
    "%autoreload 2"
   ]
  },
  {
   "cell_type": "code",
   "execution_count": 53,
   "metadata": {},
   "outputs": [
    {
     "name": "stdout",
     "output_type": "stream",
     "text": [
      "['train_0009_588d5787-029b-4bdb-a7a7-851aef1509d3.tfrecord', 'train_0004_8e7afd3c-0ea9-4f03-b6f3-c1ca31335b2b.tfrecord', 'train_0008_389f87f6-d4e6-4241-ab71-49f82264970b.tfrecord', 'train_0023_6a6dee11-1db8-4c69-8b10-98093f6b71e1.tfrecord', 'train_0019_fc769ece-f77f-411b-aee5-98265e60314f.tfrecord', 'train_0017_eade0f39-4c5b-4463-aaef-983df70a3cf3.tfrecord', 'train_0002_1e88a48a-caf1-4724-bd0e-1a4a2a30ff7b.tfrecord', 'train_0012_734c63fe-bbaf-4a47-848b-cf4adc47edff.tfrecord', 'train_0015_0909de1b-78bd-4081-9dec-d048b2bb1423.tfrecord', 'train_0022_c405f7b6-ff36-4d06-a80d-8730575b74a6.tfrecord', 'train_0018_e4f52d2a-98f2-4bfc-9423-c69e73b4543b.tfrecord', 'train_0014_5ef4ad63-c685-40ae-aeef-570b02d2c7cd.tfrecord', 'train_0025_4c064d45-8241-4be9-8934-7b1e73d182ac.tfrecord', 'train_0021_055b08c6-ca36-403c-83ef-cb6c9de7b511.tfrecord', 'train_0024_ad2b9804-4fdb-45ed-9c3d-5147381c216c.tfrecord', 'train_0005_bf435c55-1475-4db9-8b60-0da3b5b8d43f.tfrecord', 'train_0016_1214a5ed-e926-421b-a930-701a8d966784.tfrecord', 'train_0011_3323d366-2a94-487f-a9b1-8312ca080f14.tfrecord', 'train_0020_d366b712-309c-46f7-888f-edc7ea78d5e2.tfrecord', 'train_0007_fbe99290-c625-4e44-aa5d-d93adcd1e2cc.tfrecord', 'train_0010_070c6765-4e90-407c-b18d-23ea2d1b8a7f.tfrecord', 'train_0001_167b1318-466a-48b6-8e10-5cf4ed151f5c.tfrecord', 'train_0013_0844be6e-4ab7-47eb-948b-9cb54c1d1026.tfrecord', 'train_0003_91bfe511-436e-4548-ad47-dde64c6f5660.tfrecord', 'train_0006_aa1fd4ef-07d9-4229-99d8-3dc9a86e3dac.tfrecord']\n",
      "<TFRecordDatasetV2 element_spec=TensorSpec(shape=(), dtype=tf.string, name=None)>\n"
     ]
    }
   ],
   "source": [
    "# Load Data\n",
    "dataset_path = \"/Users/jon/development/university/sis/datasets/output\"\n",
    "\n",
    "tfrecs_paths = [each for each in os.listdir(dataset_path) if each.endswith(\".tfrecord\")]\n",
    "\n",
    "print(tfrecs_paths)\n",
    "\n",
    "NUM_CLASSES = 26\n",
    "\n",
    "x_dataset = []\n",
    "y_dataset = []\n",
    "\n",
    "raw_dataset = tf.data.TFRecordDataset([os.path.join(dataset_path, each) for each in tfrecs_paths])\n",
    "print(raw_dataset)\n",
    "\n",
    "feature_description = {\n",
    "    'target_label': tf.io.FixedLenSequenceFeature([], tf.int64, allow_missing=True),\n",
    "    'landmarks': tf.io.FixedLenSequenceFeature([], tf.float32, allow_missing=True),\n",
    "}\n",
    "\n",
    "def parse_record_fn(example):\n",
    "    return tf.io.parse_single_example(example, feature_description)\n",
    "\n",
    "parsed_dataset = raw_dataset.map(parse_record_fn)\n",
    "# print(parsed_dataset)\n",
    "\n",
    "for parsed_record in parsed_dataset:\n",
    "    x_dataset.append(parsed_record['landmarks'].numpy())\n",
    "    y_dataset.append(parsed_record['target_label'].numpy())\n",
    "    "
   ]
  },
  {
   "cell_type": "code",
   "execution_count": 54,
   "metadata": {},
   "outputs": [
    {
     "name": "stdout",
     "output_type": "stream",
     "text": [
      "(5818, 99, 1)\n",
      "(5818, 26)\n"
     ]
    }
   ],
   "source": [
    "from sklearn.model_selection import train_test_split\n",
    "\n",
    "x_train, x_test, y_train, y_test = train_test_split(x_dataset, y_dataset, test_size=0.2, random_state=0xdeadbeef)\n",
    "\n",
    "x_train = np.array(x_train)\n",
    "y_train = np.array(y_train)\n",
    "x_test = np.array(x_test)\n",
    "y_test = np.array(y_test)\n",
    "\n",
    "x_train = np.reshape(x_train, (x_train.shape[0], x_train.shape[1], 1))\n",
    "x_test = np.reshape(x_test, (x_test.shape[0], x_test.shape[1], 1))\n",
    "\n",
    "y_train = tf.keras.utils.to_categorical(y_train, NUM_CLASSES)\n",
    "y_test = tf.keras.utils.to_categorical(y_test, NUM_CLASSES)\n",
    "\n",
    "print(x_train.shape)\n",
    "print(y_train.shape)"
   ]
  },
  {
   "cell_type": "code",
   "execution_count": 55,
   "metadata": {},
   "outputs": [
    {
     "name": "stdout",
     "output_type": "stream",
     "text": [
      "Model: \"sequential_2\"\n",
      "_________________________________________________________________\n",
      " Layer (type)                Output Shape              Param #   \n",
      "=================================================================\n",
      " conv1d_18 (Conv1D)          (None, 99, 32)            192       \n",
      "                                                                 \n",
      " conv1d_19 (Conv1D)          (None, 99, 32)            5152      \n",
      "                                                                 \n",
      " max_pooling1d_8 (MaxPooling  (None, 49, 32)           0         \n",
      " 1D)                                                             \n",
      "                                                                 \n",
      " conv1d_20 (Conv1D)          (None, 49, 64)            10304     \n",
      "                                                                 \n",
      " conv1d_21 (Conv1D)          (None, 49, 64)            20544     \n",
      "                                                                 \n",
      " max_pooling1d_9 (MaxPooling  (None, 24, 64)           0         \n",
      " 1D)                                                             \n",
      "                                                                 \n",
      " conv1d_22 (Conv1D)          (None, 24, 128)           41088     \n",
      "                                                                 \n",
      " conv1d_23 (Conv1D)          (None, 24, 128)           82048     \n",
      "                                                                 \n",
      " max_pooling1d_10 (MaxPoolin  (None, 12, 128)          0         \n",
      " g1D)                                                            \n",
      "                                                                 \n",
      " conv1d_24 (Conv1D)          (None, 12, 256)           164096    \n",
      "                                                                 \n",
      " conv1d_25 (Conv1D)          (None, 12, 256)           327936    \n",
      "                                                                 \n",
      " max_pooling1d_11 (MaxPoolin  (None, 6, 256)           0         \n",
      " g1D)                                                            \n",
      "                                                                 \n",
      " dropout_2 (Dropout)         (None, 6, 256)            0         \n",
      "                                                                 \n",
      " flatten_2 (Flatten)         (None, 1536)              0         \n",
      "                                                                 \n",
      " dense_4 (Dense)             (None, 512)               786944    \n",
      "                                                                 \n",
      " dense_5 (Dense)             (None, 26)                13338     \n",
      "                                                                 \n",
      "=================================================================\n",
      "Total params: 1,451,642\n",
      "Trainable params: 1,451,642\n",
      "Non-trainable params: 0\n",
      "_________________________________________________________________\n"
     ]
    }
   ],
   "source": [
    "model = tf.keras.models.Sequential([\n",
    "    tf.keras.layers.Conv1D(filters=32, kernel_size=5, strides=1, padding=\"causal\", activation=\"relu\", input_shape=x_train.shape[1:]),\n",
    "    tf.keras.layers.Conv1D(filters=32, kernel_size=5, strides=1, padding=\"causal\", activation=\"relu\"),\n",
    "    tf.keras.layers.MaxPooling1D(pool_size=2),\n",
    "    tf.keras.layers.Conv1D(filters=64, kernel_size=5, strides=1, padding=\"causal\", activation=\"relu\"),\n",
    "    tf.keras.layers.Conv1D(filters=64, kernel_size=5, strides=1, padding=\"causal\", activation=\"relu\"),\n",
    "    tf.keras.layers.MaxPooling1D(pool_size=2),\n",
    "    tf.keras.layers.Conv1D(filters=128, kernel_size=5, strides=1, padding=\"causal\", activation=\"relu\"),\n",
    "    tf.keras.layers.Conv1D(filters=128, kernel_size=5, strides=1, padding=\"causal\", activation=\"relu\"),\n",
    "    tf.keras.layers.MaxPooling1D(pool_size=2),\n",
    "    tf.keras.layers.Conv1D(filters=256, kernel_size=5, strides=1, padding=\"causal\", activation=\"relu\"),\n",
    "    tf.keras.layers.Conv1D(filters=256, kernel_size=5, strides=1, padding=\"causal\", activation=\"relu\"),\n",
    "    tf.keras.layers.MaxPooling1D(pool_size=2),\n",
    "    tf.keras.layers.Dropout(rate=0.2),\n",
    "    tf.keras.layers.Flatten(),\n",
    "    tf.keras.layers.Dense(512, activation=\"relu\"),\n",
    "    tf.keras.layers.Dense(NUM_CLASSES, activation=\"softmax\")\n",
    "])\n",
    "\n",
    "model.compile(loss = 'categorical_crossentropy', optimizer = 'adam', metrics = ['accuracy', 'categorical_accuracy'])\n",
    "model.summary()"
   ]
  },
  {
   "cell_type": "code",
   "execution_count": 56,
   "metadata": {},
   "outputs": [
    {
     "name": "stdout",
     "output_type": "stream",
     "text": [
      "Epoch 1/25\n"
     ]
    },
    {
     "name": "stdout",
     "output_type": "stream",
     "text": [
      "182/182 [==============================] - 5s 22ms/step - loss: 2.6327 - accuracy: 0.1825 - categorical_accuracy: 0.1825 - val_loss: 2.0417 - val_accuracy: 0.3155 - val_categorical_accuracy: 0.3155\n",
      "Epoch 2/25\n",
      "182/182 [==============================] - 4s 21ms/step - loss: 1.2079 - accuracy: 0.5641 - categorical_accuracy: 0.5641 - val_loss: 0.7332 - val_accuracy: 0.7402 - val_categorical_accuracy: 0.7402\n",
      "Epoch 3/25\n",
      "182/182 [==============================] - 4s 22ms/step - loss: 0.4970 - accuracy: 0.8278 - categorical_accuracy: 0.8278 - val_loss: 0.3444 - val_accuracy: 0.8447 - val_categorical_accuracy: 0.8447\n",
      "Epoch 4/25\n",
      "182/182 [==============================] - 5s 26ms/step - loss: 0.2645 - accuracy: 0.9087 - categorical_accuracy: 0.9087 - val_loss: 0.1874 - val_accuracy: 0.9045 - val_categorical_accuracy: 0.9045\n",
      "Epoch 5/25\n",
      "182/182 [==============================] - 5s 26ms/step - loss: 0.2150 - accuracy: 0.9276 - categorical_accuracy: 0.9276 - val_loss: 0.1151 - val_accuracy: 0.9505 - val_categorical_accuracy: 0.9505\n",
      "Epoch 6/25\n",
      "182/182 [==============================] - 6s 31ms/step - loss: 0.1238 - accuracy: 0.9581 - categorical_accuracy: 0.9581 - val_loss: 0.1229 - val_accuracy: 0.9643 - val_categorical_accuracy: 0.9643\n",
      "Epoch 7/25\n",
      "182/182 [==============================] - 4s 23ms/step - loss: 0.1253 - accuracy: 0.9598 - categorical_accuracy: 0.9598 - val_loss: 0.0653 - val_accuracy: 0.9814 - val_categorical_accuracy: 0.9814\n",
      "Epoch 8/25\n",
      "182/182 [==============================] - 4s 21ms/step - loss: 0.1001 - accuracy: 0.9679 - categorical_accuracy: 0.9679 - val_loss: 0.0857 - val_accuracy: 0.9698 - val_categorical_accuracy: 0.9698\n",
      "Epoch 9/25\n",
      "182/182 [==============================] - 4s 23ms/step - loss: 0.0504 - accuracy: 0.9823 - categorical_accuracy: 0.9823 - val_loss: 0.0191 - val_accuracy: 0.9931 - val_categorical_accuracy: 0.9931\n",
      "Epoch 10/25\n",
      "182/182 [==============================] - 4s 22ms/step - loss: 0.0570 - accuracy: 0.9840 - categorical_accuracy: 0.9840 - val_loss: 0.0640 - val_accuracy: 0.9842 - val_categorical_accuracy: 0.9842\n",
      "Epoch 11/25\n",
      "182/182 [==============================] - 4s 21ms/step - loss: 0.0401 - accuracy: 0.9864 - categorical_accuracy: 0.9864 - val_loss: 0.3088 - val_accuracy: 0.9326 - val_categorical_accuracy: 0.9326\n",
      "Epoch 12/25\n",
      "182/182 [==============================] - 4s 21ms/step - loss: 0.1006 - accuracy: 0.9684 - categorical_accuracy: 0.9684 - val_loss: 0.0447 - val_accuracy: 0.9835 - val_categorical_accuracy: 0.9835\n",
      "Epoch 13/25\n",
      "182/182 [==============================] - 4s 21ms/step - loss: 0.0755 - accuracy: 0.9749 - categorical_accuracy: 0.9749 - val_loss: 0.0267 - val_accuracy: 0.9911 - val_categorical_accuracy: 0.9911\n",
      "Epoch 14/25\n",
      "182/182 [==============================] - 4s 21ms/step - loss: 0.0414 - accuracy: 0.9861 - categorical_accuracy: 0.9861 - val_loss: 0.0208 - val_accuracy: 0.9938 - val_categorical_accuracy: 0.9938\n",
      "Epoch 15/25\n",
      "182/182 [==============================] - 4s 21ms/step - loss: 0.0342 - accuracy: 0.9895 - categorical_accuracy: 0.9895 - val_loss: 0.0144 - val_accuracy: 0.9952 - val_categorical_accuracy: 0.9952\n",
      "Epoch 16/25\n",
      "182/182 [==============================] - 4s 22ms/step - loss: 0.0323 - accuracy: 0.9899 - categorical_accuracy: 0.9899 - val_loss: 0.0038 - val_accuracy: 0.9979 - val_categorical_accuracy: 0.9979\n",
      "Epoch 17/25\n",
      "182/182 [==============================] - 4s 22ms/step - loss: 0.0167 - accuracy: 0.9948 - categorical_accuracy: 0.9948 - val_loss: 0.0082 - val_accuracy: 0.9959 - val_categorical_accuracy: 0.9959\n",
      "Epoch 18/25\n",
      "182/182 [==============================] - 4s 22ms/step - loss: 0.0759 - accuracy: 0.9770 - categorical_accuracy: 0.9770 - val_loss: 0.0093 - val_accuracy: 0.9993 - val_categorical_accuracy: 0.9993\n",
      "Epoch 19/25\n",
      "182/182 [==============================] - 4s 21ms/step - loss: 0.0108 - accuracy: 0.9964 - categorical_accuracy: 0.9964 - val_loss: 0.0110 - val_accuracy: 0.9959 - val_categorical_accuracy: 0.9959\n",
      "Epoch 20/25\n",
      "182/182 [==============================] - 4s 23ms/step - loss: 0.0371 - accuracy: 0.9881 - categorical_accuracy: 0.9881 - val_loss: 0.0237 - val_accuracy: 0.9890 - val_categorical_accuracy: 0.9890\n",
      "Epoch 21/25\n",
      "182/182 [==============================] - 4s 22ms/step - loss: 0.0247 - accuracy: 0.9924 - categorical_accuracy: 0.9924 - val_loss: 0.0821 - val_accuracy: 0.9753 - val_categorical_accuracy: 0.9753\n",
      "Epoch 22/25\n",
      "182/182 [==============================] - 4s 22ms/step - loss: 0.0345 - accuracy: 0.9883 - categorical_accuracy: 0.9883 - val_loss: 0.0288 - val_accuracy: 0.9897 - val_categorical_accuracy: 0.9897\n",
      "Epoch 23/25\n",
      "182/182 [==============================] - 4s 23ms/step - loss: 0.0297 - accuracy: 0.9899 - categorical_accuracy: 0.9899 - val_loss: 0.0163 - val_accuracy: 0.9966 - val_categorical_accuracy: 0.9966\n",
      "Epoch 24/25\n",
      "182/182 [==============================] - 4s 22ms/step - loss: 0.0353 - accuracy: 0.9887 - categorical_accuracy: 0.9887 - val_loss: 0.0538 - val_accuracy: 0.9821 - val_categorical_accuracy: 0.9821\n",
      "Epoch 25/25\n",
      "182/182 [==============================] - 4s 22ms/step - loss: 0.0314 - accuracy: 0.9904 - categorical_accuracy: 0.9904 - val_loss: 0.0305 - val_accuracy: 0.9911 - val_categorical_accuracy: 0.9911\n"
     ]
    }
   ],
   "source": [
    "history = model.fit(x_train, y_train, epochs=25, batch_size = 32, validation_data=(x_test, y_test))\n",
    "model.save('model-weights.h5')"
   ]
  },
  {
   "cell_type": "code",
   "execution_count": 57,
   "metadata": {},
   "outputs": [
    {
     "data": {
      "image/png": "[encoded data removed]",
      "text/plain": [
       "<Figure size 640x480 with 1 Axes>"
      ]
     },
     "metadata": {},
     "output_type": "display_data"
    }
   ],
   "source": [
    "# Graph Metrics/History\n",
    "from matplotlib import pyplot as plt\n",
    "\n",
    "plt.plot(history.history['accuracy'])\n",
    "plt.plot(history.history['val_accuracy'])\n",
    "plt.title('Model Accuracy')\n",
    "plt.ylabel('Accuracy')\n",
    "plt.xlabel('Epoch')\n",
    "plt.show()"
   ]
  },
  {
   "cell_type": "code",
   "execution_count": 69,
   "metadata": {},
   "outputs": [
    {
     "name": "stdout",
     "output_type": "stream",
     "text": [
      "1/1 [==============================] - 0s 28ms/step\n",
      "[[0. 0. 0. 0. 0. 0. 0. 1. 0. 0. 0. 0. 0. 0. 0. 0. 0. 0. 0. 0. 0. 0. 0. 0.\n",
      "  0. 0.]]\n"
     ]
    },
    {
     "name": "stderr",
     "output_type": "stream",
     "text": [
      "W0000 00:00:1697799399.596096       1 face_landmarker_graph.cc:169] Sets FaceBlendshapesGraph acceleration to xnnpack by default.\n"
     ]
    }
   ],
   "source": [
    "ALPHABET = ['a', 'b', 'c', 'd', 'e', 'f', 'g', 'h', 'i', 'j', 'k', 'l', 'm', 'n', 'o', 'p', 'q', 'r', 's', 't', 'u', 'v', 'w', 'x', 'y', 'z']\n",
    "\n",
    "import cv2 as cv\n",
    "\n",
    "image = cv.imread(\"/Users/jon/development/university/sis/videos/alphabet/h/frame_0192.png\")\n",
    "\n",
    "from data.inference_testing.landmarks import LandmarkProcessor\n",
    "\n",
    "processor = LandmarkProcessor(\n",
    "    pose_landmarker=\"/Users/jon/development/university/sis/models/pose_landmarker_full.task\",\n",
    "    hand_landmarker=\"/Users/jon/development/university/sis/models/hand_landmarker.task\",\n",
    "    face_landmarker=\"/Users/jon/development/university/sis/models/face_landmarker.task\"\n",
    ")\n",
    "\n",
    "collected_landmarks=[\n",
    "    [12, 14, 16, 18, 20, 22, 11, 13, 15, 17, 19, 21],\n",
    "    list(range(0, 21)), \n",
    "    []]\n",
    "\n",
    "pose_landmarks, hand_landmarks, handedness, _ = processor.get_landmarks(image)\n",
    "\n",
    "landmarks = []\n",
    "landmarks.extend(hand_landmarks[0][i].x for i in collected_landmarks[1])\n",
    "landmarks.extend(pose_landmarks[i].y for i in collected_landmarks[0])\n",
    "\n",
    "landmarks.extend(hand_landmarks[0][i].y for i in collected_landmarks[1])\n",
    "landmarks.extend(pose_landmarks[i].y for i in collected_landmarks[0])\n",
    "\n",
    "landmarks.extend(hand_landmarks[0][i].z for i in collected_landmarks[1])\n",
    "landmarks.extend(pose_landmarks[i].z for i in collected_landmarks[0])\n",
    "\n",
    "landmarks = np.array(landmarks)\n",
    "\n",
    "landmarks = np.reshape(landmarks, (1, landmarks.shape[0], 1))\n",
    "prediction = model.predict(landmarks)\n",
    "\n",
    "cats = np.zeros((1, NUM_CLASSES))\n",
    "cats[np.arange(1), np.argmax(prediction)] = 1\n",
    "print(cats)"
   ]
  },
  {
   "cell_type": "code",
   "execution_count": null,
   "metadata": {},
   "outputs": [],
   "source": [
    "converter = tf.lite.TFLiteConverter.from_keras_model(model)\n",
    "lite_model = converter.convert()\n",
    "\n",
    "with open('model.tflite', 'wb') as f:\n",
    "    f.write(lite_model)"
   ]
  }
 ],
 "metadata": {
  "kernelspec": {
   "display_name": "sis_cv_api",
   "language": "python",
   "name": "python3"
  },
  "language_info": {
   "codemirror_mode": {
    "name": "ipython",
    "version": 3
   },
   "file_extension": ".py",
   "mimetype": "text/x-python",
   "name": "python",
   "nbconvert_exporter": "python",
   "pygments_lexer": "ipython3",
   "version": "3.11.5"
  }
 },
 "nbformat": 4,
 "nbformat_minor": 2
}
